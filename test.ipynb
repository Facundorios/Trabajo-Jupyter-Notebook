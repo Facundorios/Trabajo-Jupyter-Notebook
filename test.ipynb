{
 "cells": [
  {
   "cell_type": "markdown",
   "metadata": {},
   "source": [
    "# Bienvenido a mi prueba de Jupyter: tp-python Primer Parcial (Fila 1)\n",
    "\n"
   ]
  },
  {
   "cell_type": "markdown",
   "metadata": {},
   "source": [
    "## Punto 2."
   ]
  },
  {
   "cell_type": "markdown",
   "metadata": {},
   "source": [
    "#Creamos la función comparar_cadenas_lexicograficas, que recibe dos cadenas de texto y devuelve \"-1\" si la primera cadena es lexicográficamente menor que la segunda, \"1\" si es mayor, y \"0\" si son iguales.\n",
    "\n"
   ]
  },
  {
   "cell_type": "code",
   "execution_count": 43,
   "metadata": {},
   "outputs": [
    {
     "name": "stdout",
     "output_type": "stream",
     "text": [
      "-1\n",
      "0\n",
      "1\n"
     ]
    }
   ],
   "source": [
    "def comparar_cadenas_lexicograficas(cadena1: str, cadena2: str):\n",
    "    #hacemos un condicional en donde si la primera cadena es menor a la segunda cadena, retornará un \"-1\"\n",
    "    if cadena1 < cadena2:\n",
    "        return \"-1\"\n",
    "    #En caso contrario: si la cadena 2 resulta ser mayor que la cadena 2, retornará un \"1\"\n",
    "    elif cadena1 > cadena2:\n",
    "        return \"1\"\n",
    "    #Si no pasa ninguno de los 2 casos, y resulta ser que ambas cadenas son iguales, retornará un \"0\"\n",
    "    elif cadena1 == cadena2:\n",
    "        return \"0\"\n",
    "\n",
    "#pruebas de distintas posibilidades\n",
    "print(comparar_cadenas_lexicograficas(\"aaa\", \"aaz\"))\n",
    "print(comparar_cadenas_lexicograficas(\"aaa\", \"aaa\"))\n",
    "print(comparar_cadenas_lexicograficas(\"aaz\", \"aaa\"))"
   ]
  },
  {
   "cell_type": "markdown",
   "metadata": {},
   "source": [
    "## Punto 3."
   ]
  },
  {
   "cell_type": "markdown",
   "metadata": {},
   "source": [
    "### Primera Parte: Importaciones, Dataframes, y funciones pedidas.\n"
   ]
  },
  {
   "cell_type": "markdown",
   "metadata": {},
   "source": [
    "Importamos la libreria de pandas, la cual será usada para resolver los ejercicios pedidos."
   ]
  },
  {
   "cell_type": "code",
   "execution_count": 44,
   "metadata": {},
   "outputs": [],
   "source": [
    "import pandas as pd"
   ]
  },
  {
   "cell_type": "markdown",
   "metadata": {},
   "source": [
    "Copiamos los datos sacados del parcial y los ubicamos en una variable."
   ]
  },
  {
   "cell_type": "code",
   "execution_count": 45,
   "metadata": {},
   "outputs": [],
   "source": [
    "ventas_mensuales = [\n",
    "    {\"mes\": \"Enero\", \"total_ventas\": 15000, \"año\": 2023},\n",
    "    {\"mes\": \"Febrero\", \"total_ventas\": 18000, \"año\": 2023},\n",
    "    {\"mes\": \"Marzo\", \"total_ventas\": 22000, \"año\": 2023},\n",
    "    {\"mes\": \"Abril\", \"total_ventas\": 19000, \"año\": 2023},\n",
    "    {\"mes\": \"Mayo\", \"total_ventas\": 25000, \"año\": 2023},\n",
    "    {\"mes\": \"Junio\", \"total_ventas\": 28000, \"año\": 2023},\n",
    "    {\"mes\": \"Julio\", \"total_ventas\": 32000, \"año\": 2023},\n",
    "    {\"mes\": \"Agosto\", \"total_ventas\": 30000, \"año\": 2023},\n",
    "    {\"mes\": \"Septiembre\", \"total_ventas\": 28000, \"año\": 2023},\n",
    "    {\"mes\": \"Octubre\", \"total_ventas\": 31000, \"año\": 2023},\n",
    "    {\"mes\": \"Noviembre\", \"total_ventas\": 33000, \"año\": 2023},\n",
    "    {\"mes\": \"Diciembre\", \"total_ventas\": 36000, \"año\": 2023},\n",
    "    {\"mes\": \"Enero 2\", \"total_ventas\": 37000, \"año\": 2024},\n",
    "    {\"mes\": \"Febrero 2\", \"total_ventas\": 38000, \"año\": 2024},\n",
    "    {\"mes\": \"Marzo 2\", \"total_ventas\": 42000, \"año\": 2024},\n",
    "    {\"mes\": \"Abril 2\", \"total_ventas\": 39000, \"año\": 2024},\n",
    "    {\"mes\": \"Mayo 2\", \"total_ventas\": 45000, \"año\": 2024},\n",
    "    {\"mes\": \"Junio 2\", \"total_ventas\": 48000, \"año\": 2024},\n",
    "    {\"mes\": \"Julio 2\", \"total_ventas\": 52000, \"año\": 2024},\n",
    "    {\"mes\": \"Agosto 2\", \"total_ventas\": 50000, \"año\": 2024},\n",
    "    {\"mes\": \"Septiembre 2\", \"total_ventas\": 48000, \"año\": 2024},\n",
    "    {\"mes\": \"Octubre 2\", \"total_ventas\": 51000, \"año\": 2024},\n",
    "    {\"mes\": \"Noviembre 2\", \"total_ventas\": 55000, \"año\": 2024},\n",
    "    {\"mes\": \"Diciembre 2\", \"total_ventas\": 58000, \"año\": 2024},\n",
    "]"
   ]
  },
  {
   "cell_type": "markdown",
   "metadata": {},
   "source": [
    "Definimos \"df\", que será la tabla donde tendremos nuestros datos. y le pasamos como columnas los datos \"mes\", \"total_ventas\" y \"año\"\n"
   ]
  },
  {
   "cell_type": "code",
   "execution_count": 46,
   "metadata": {},
   "outputs": [],
   "source": [
    "df = pd.DataFrame(ventas_mensuales, columns=[\"mes\", \"total_ventas\", \"año\"])"
   ]
  },
  {
   "cell_type": "markdown",
   "metadata": {},
   "source": [
    "### Primer inciso del 3er Punto.\n"
   ]
  },
  {
   "cell_type": "markdown",
   "metadata": {},
   "source": [
    "Sacamos el total de ventas por cada trimestre."
   ]
  },
  {
   "cell_type": "code",
   "execution_count": 47,
   "metadata": {},
   "outputs": [],
   "source": [
    "df[\"Suma\"] = df[\"total_ventas\"].cumsum()"
   ]
  },
  {
   "cell_type": "markdown",
   "metadata": {},
   "source": [
    "Hacemos la función para mostrar el total de las ventas trimestrales. Lo que hacemos en este ecaso es definif ua variable en donde estoy llamando a la columna \"Suma\", la cual previamente habia definido como la suma total de todas las ventas. Con ello, lo que hagoes llamar a a los valores del arreglo correpondientes, dado que el arreglo comienza desde la posición 0, decido llamar a las posiciones 3, 7 ,11, 15, 20 y 23, que representan el ultimo mes de cada cuatrimestre\n"
   ]
  },
  {
   "cell_type": "markdown",
   "metadata": {},
   "source": [
    "Una pequeña autocritica y correción, me he percatado de que llamar unicamente el valor de la suma con el mes correspondiente, no soluciona la actividad pedida. Lo que faltaria es restar los meses acumulados anteriores. El codigo mejor hecho quedaria con esta simple modificación: \n"
   ]
  },
  {
   "cell_type": "code",
   "execution_count": 48,
   "metadata": {},
   "outputs": [],
   "source": [
    "def venta_trimestral():\n",
    "    suma = df[\"Suma\"]\n",
    "    print(\"--------------------------------------------------------\")\n",
    "    print(f\"Total del primer trimestre: {suma[3]}$  (Abril 2023)\")\n",
    "    print(f\"Total del segundo trimestre: {suma[7] - suma[3]}$ (Agosto 2023)\")\n",
    "    print(f\"Total del tercer trimestre: {suma[11] - suma[7]}$ (Diciembre 2023)\")\n",
    "    print(\"--------------------------------------------------------\")\n",
    "    print(f\"Total del cuarto trimestre: {suma[15] - suma[11]}$ (Abril 2024)\")\n",
    "    print(f\"Total del quinto trimestre: {suma[20] - suma[15]}$ (Agosto 2024)\")\n",
    "    print(f\"Total del sexto trimestre: {suma[23]- suma[20]}$ (Diciembre 2024)\")\n",
    "    print(\"--------------------------------------------------------\")"
   ]
  },
  {
   "cell_type": "markdown",
   "metadata": {},
   "source": [
    "### Segundo inciso del 3er Punto."
   ]
  },
  {
   "cell_type": "markdown",
   "metadata": {},
   "source": [
    "Hacemos la función para obtener los valores de las ventas mayores a $20.000: primero obtenemos mes y ventas de las columnas del DataFrame. Con estos elementos, utilizamos un for i con el rango de las ventas, en donde a cada venta (ventas[i]), dentro del mismo for utilizamos un condicional en donde preguntamos si cada venta es mayor a 20.000 (Es importante destacar el hecho de que si no re definimos el tipo de valor de ventas, no lo tomará comoun numero). Una vez cumplida esa condición, la función mostrará las ventas mayores a 20.000.\n",
    "\n",
    "Destaco el hecho de que, al ser de la misma columna, no hace falta hacer un for para meses, bastaría con pasarle el [i], para que se entienda que se esta hablando de la misma información. "
   ]
  },
  {
   "cell_type": "code",
   "execution_count": 49,
   "metadata": {},
   "outputs": [],
   "source": [
    "def ventas_mayores_20():\n",
    "    ventas = df[\"total_ventas\"]\n",
    "    mes = df[\"mes\"]\n",
    "\n",
    "    print(\"Meses que producieron más de 20.000 ventas:\")\n",
    "    for i in range(len(ventas)):\n",
    "        int(ventas[i])\n",
    "        if ventas[i] > 20000:\n",
    "            print(f'{mes[i]}: ${ventas[i]}')"
   ]
  },
  {
   "cell_type": "markdown",
   "metadata": {},
   "source": [
    "### Tercer inciso del 3er Punto."
   ]
  },
  {
   "cell_type": "markdown",
   "metadata": {},
   "source": [
    "Para obtener la mayor venta del mes, utilizamos un metodo max(), en la columna del total de ventas, esto automaticamente dectectará el valor mas grande que se halle dentro de la columna.\n",
    "Posteriormente mostramos los datos.\n"
   ]
  },
  {
   "cell_type": "code",
   "execution_count": 50,
   "metadata": {},
   "outputs": [],
   "source": [
    "def mayor_mes_venta():\n",
    "    año = df[\"año\"]\n",
    "    mes = df[\"mes\"]\n",
    "    ventas = df[\"total_ventas\"].max()    \n",
    "    print(f'La mayor venta fue de: ${ventas}, en el {mes[23]}, del {año[23]}')"
   ]
  },
  {
   "cell_type": "markdown",
   "metadata": {},
   "source": [
    "### Cuarto inciso del 3er Punto."
   ]
  },
  {
   "cell_type": "markdown",
   "metadata": {},
   "source": [
    "Para sacar el promedio de ventas, utilizamos el metodo cumsum(), para obtener el total de todos los ingresos, para despues dividirlo por la cantidad de meses. Llamamos el ultimo valor de \"promedio\" y lo dividimos por 24."
   ]
  },
  {
   "cell_type": "code",
   "execution_count": 51,
   "metadata": {},
   "outputs": [],
   "source": [
    "def promedio_ventas():\n",
    "    promedio = df[\"total_ventas\"].cumsum() \n",
    "    print(f'El promedio es de de ventas mensuales es de: $ {(promedio[23] / 24).round(2)}')"
   ]
  },
  {
   "cell_type": "markdown",
   "metadata": {},
   "source": [
    "### Quinto inciso del 3er Punto."
   ]
  },
  {
   "cell_type": "markdown",
   "metadata": {},
   "source": [
    "Creamos el dataframe con las 2 columnas requeridas."
   ]
  },
  {
   "cell_type": "code",
   "execution_count": 52,
   "metadata": {},
   "outputs": [],
   "source": [
    "def crear_dataframe():\n",
    "    dataFrame = pd.DataFrame(ventas_mensuales, columns=[\"mes\", \"total_ventas\"]) \n",
    "    print(dataFrame)"
   ]
  },
  {
   "cell_type": "markdown",
   "metadata": {},
   "source": [
    "## Llamado de todas las funciones."
   ]
  },
  {
   "cell_type": "code",
   "execution_count": 53,
   "metadata": {},
   "outputs": [
    {
     "name": "stdout",
     "output_type": "stream",
     "text": [
      "#1------------------------------------------------------\n",
      "--------------------------------------------------------\n",
      "Total del primer trimestre: 74000$  (Abril 2023)\n",
      "Total del segundo trimestre: 115000$ (Agosto 2023)\n",
      "Total del tercer trimestre: 128000$ (Diciembre 2023)\n",
      "--------------------------------------------------------\n",
      "Total del cuarto trimestre: 156000$ (Abril 2024)\n",
      "Total del quinto trimestre: 243000$ (Agosto 2024)\n",
      "Total del sexto trimestre: 164000$ (Diciembre 2024)\n",
      "--------------------------------------------------------\n",
      "#2------------------------------------------------------\n",
      "Meses que producieron más de 20.000 ventas:\n",
      "Marzo: $22000\n",
      "Mayo: $25000\n",
      "Junio: $28000\n",
      "Julio: $32000\n",
      "Agosto: $30000\n",
      "Septiembre: $28000\n",
      "Octubre: $31000\n",
      "Noviembre: $33000\n",
      "Diciembre: $36000\n",
      "Enero 2: $37000\n",
      "Febrero 2: $38000\n",
      "Marzo 2: $42000\n",
      "Abril 2: $39000\n",
      "Mayo 2: $45000\n",
      "Junio 2: $48000\n",
      "Julio 2: $52000\n",
      "Agosto 2: $50000\n",
      "Septiembre 2: $48000\n",
      "Octubre 2: $51000\n",
      "Noviembre 2: $55000\n",
      "Diciembre 2: $58000\n",
      "#3------------------------------------------------------\n",
      "La mayor venta fue de: $58000, en el Diciembre 2, del 2024\n",
      "#4------------------------------------------------------\n",
      "El promedio es de de ventas mensuales es de: $ 36666.67\n",
      "#5------------------------------------------------------\n",
      "             mes  total_ventas\n",
      "0          Enero         15000\n",
      "1        Febrero         18000\n",
      "2          Marzo         22000\n",
      "3          Abril         19000\n",
      "4           Mayo         25000\n",
      "5          Junio         28000\n",
      "6          Julio         32000\n",
      "7         Agosto         30000\n",
      "8     Septiembre         28000\n",
      "9        Octubre         31000\n",
      "10     Noviembre         33000\n",
      "11     Diciembre         36000\n",
      "12       Enero 2         37000\n",
      "13     Febrero 2         38000\n",
      "14       Marzo 2         42000\n",
      "15       Abril 2         39000\n",
      "16        Mayo 2         45000\n",
      "17       Junio 2         48000\n",
      "18       Julio 2         52000\n",
      "19      Agosto 2         50000\n",
      "20  Septiembre 2         48000\n",
      "21     Octubre 2         51000\n",
      "22   Noviembre 2         55000\n",
      "23   Diciembre 2         58000\n"
     ]
    }
   ],
   "source": [
    "print(\"#1------------------------------------------------------\")\n",
    "venta_trimestral()  \n",
    "print(\"#2------------------------------------------------------\")\n",
    "ventas_mayores_20()\n",
    "print(\"#3------------------------------------------------------\")\n",
    "mayor_mes_venta()\n",
    "print(\"#4------------------------------------------------------\")\n",
    "promedio_ventas()\n",
    "print(\"#5------------------------------------------------------\")\n",
    "crear_dataframe()\n"
   ]
  },
  {
   "cell_type": "markdown",
   "metadata": {},
   "source": []
  },
  {
   "cell_type": "markdown",
   "metadata": {},
   "source": [
    "## Punto 4."
   ]
  },
  {
   "cell_type": "markdown",
   "metadata": {},
   "source": [
    "Importacion de la libreria de matplotlib, para el creación de graficos."
   ]
  },
  {
   "cell_type": "code",
   "execution_count": 54,
   "metadata": {},
   "outputs": [],
   "source": [
    "import matplotlib.pyplot as plt"
   ]
  },
  {
   "cell_type": "markdown",
   "metadata": {},
   "source": [
    "Definimos los esjes correspondientes. X son los meses e Y son el total de ventas. "
   ]
  },
  {
   "cell_type": "code",
   "execution_count": 55,
   "metadata": {},
   "outputs": [
    {
     "data": {
      "image/png": "[encoded data removed]",
      "text/plain": [
       "<Figure size 640x480 with 1 Axes>"
      ]
     },
     "metadata": {},
     "output_type": "display_data"
    }
   ],
   "source": [
    "x = df[\"mes\"]\n",
    "y = df[\"total_ventas\"]\n",
    "\n",
    "plt.title(\"Nivel de ventas a lo largo del 2023 y 2024\")\n",
    "plt.plot(x,y)\n",
    "plt.show()"
   ]
  }
 ],
 "metadata": {
  "kernelspec": {
   "display_name": "env",
   "language": "python",
   "name": "python3"
  },
  "language_info": {
   "codemirror_mode": {
    "name": "ipython",
    "version": 3
   },
   "file_extension": ".py",
   "mimetype": "text/x-python",
   "name": "python",
   "nbconvert_exporter": "python",
   "pygments_lexer": "ipython3",
   "version": "3.12.3"
  }
 },
 "nbformat": 4,
 "nbformat_minor": 2
}
